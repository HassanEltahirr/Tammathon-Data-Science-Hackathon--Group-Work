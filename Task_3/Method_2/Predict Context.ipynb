{
 "cells": [
  {
   "cell_type": "code",
   "execution_count": null,
   "id": "42a5165f",
   "metadata": {
    "_cell_guid": "b1076dfc-b9ad-4769-8c92-a6c4dae69d19",
    "_uuid": "8f2839f25d086af736a60e9eeb907d3b93b6e0e5",
    "execution": {
     "iopub.execute_input": "2025-04-23T17:54:20.094311Z",
     "iopub.status.busy": "2025-04-23T17:54:20.094055Z",
     "iopub.status.idle": "2025-04-23T17:54:23.956796Z",
     "shell.execute_reply": "2025-04-23T17:54:23.956214Z"
    },
    "papermill": {
     "duration": 3.867859,
     "end_time": "2025-04-23T17:54:23.958256",
     "exception": false,
     "start_time": "2025-04-23T17:54:20.090397",
     "status": "completed"
    },
    "tags": []
   },
   "outputs": [],
   "source": [
    "import os\n",
    "import pandas as pd\n",
    "import requests\n",
    "from tqdm import tqdm\n",
    "import cv2\n",
    "import time\n",
    "import base64\n",
    "\n",
    "from openai import OpenAI\n",
    "\n",
    "# Set paths\n",
    "BASE_PATH = \"/kaggle/input/tammathon-task-3\"\n",
    "TEST_IMAGE_PATH = os.path.join(BASE_PATH, \"test/test\")\n",
    "TEST_CSV_PATH = os.path.join(BASE_PATH, \"test.csv\")\n",
    "VAL_IMAGE_PATH = os.path.join(BASE_PATH, \"val/val\")  # Validation image folder\n",
    "VAL_CSV_PATH = os.path.join(BASE_PATH, \"val.csv\")    # Validation CSV\n",
    "\n",
    "# Delay between API calls (in seconds)\n",
    "API_CALL_DELAY = 1.0  # Adjust as needed based on API rate limits\n",
    "\n",
    "\n",
    "# Initialize OpenAI client (configured for Core42 API or OpenAI API)\n",
    "client = OpenAI(\n",
    "    api_key=\"\",  # Replace with your Core42 or OpenAI API key\n",
    "    base_url=\"https://api.core42.ai/openai/deployments/gpt-4o\"  # Core42 API base URL\n",
    ")\n"
   ]
  },
  {
   "cell_type": "code",
   "execution_count": 2,
   "id": "7ffe0ed2",
   "metadata": {
    "execution": {
     "iopub.execute_input": "2025-04-23T17:54:23.963314Z",
     "iopub.status.busy": "2025-04-23T17:54:23.962989Z",
     "iopub.status.idle": "2025-04-23T18:26:00.236924Z",
     "shell.execute_reply": "2025-04-23T18:26:00.236139Z"
    },
    "papermill": {
     "duration": 1896.277687,
     "end_time": "2025-04-23T18:26:00.238216",
     "exception": false,
     "start_time": "2025-04-23T17:54:23.960529",
     "status": "completed"
    },
    "tags": []
   },
   "outputs": [
    {
     "name": "stderr",
     "output_type": "stream",
     "text": [
      "Processing: 100%|██████████| 374/374 [31:36<00:00,  5.07s/it]"
     ]
    },
    {
     "name": "stdout",
     "output_type": "stream",
     "text": [
      "\n",
      "Results saved. Sample predictions:\n",
      "   id                     prediction\n",
      "0  12      Car image with flat tire.\n",
      "1  15        Car image with scratch.\n",
      "2  23  Car image with dent, scratch.\n",
      "3  33  Car image with dent, scratch.\n",
      "4  40  Car image with dent, scratch.\n"
     ]
    },
    {
     "name": "stderr",
     "output_type": "stream",
     "text": [
      "\n"
     ]
    }
   ],
   "source": [
    "import os\n",
    "import pandas as pd\n",
    "import base64\n",
    "from openai import OpenAI\n",
    "from tqdm import tqdm\n",
    "import time\n",
    "import json\n",
    "from tenacity import retry, stop_after_attempt, wait_exponential\n",
    "\n",
    "# Configuration\n",
    "API_CALL_DELAY = 1.5  # Delay between API calls\n",
    "MAX_RETRIES = 3  # Maximum retry attempts\n",
    "TEST_SAMPLE_SIZE = 5  # Number of images to test\n",
    "LOG_FILE = \"/kaggle/working/api_logs.jsonl\"  # Log file path\n",
    "\n",
    "# Initialize OpenAI client\n",
    "# client = OpenAI(api_key=\"your_openai_api_key\")  # Replace with your key\n",
    "\n",
    "# Define allowed damage terms\n",
    "ALLOWED_DAMAGE_TERMS = [\n",
    "    'scratch', 'dent', 'lamp', 'broken', 'glass',\n",
    "    'shattered', 'crack', 'tire', 'flat'\n",
    "]\n",
    "\n",
    "# Strict format system prompt\n",
    "SYSTEM_PROMPT = f\"\"\"\n",
    "You are a professional car damage assessor. Analyze the image and:\n",
    "\n",
    "**Strict Requirements:**\n",
    "1. Only use these damage terms: {\", \".join(ALLOWED_DAMAGE_TERMS)}\n",
    "2. Respond EXACTLY in format: \"Car image with [damage1], [damage2]...\"\n",
    "3. Separate multiple damages with commas\n",
    "4. Use ONLY the specified terms - no variations\n",
    "5. If no damage: \"Car image with no visible damage\"\n",
    "\n",
    "**Examples:**\n",
    "- \"Car image with scratch, dent\"\n",
    "- \"Car image with broken glass\"\n",
    "- \"Car image with flat tire\"\n",
    "- \"Car image with no visible damage\"\n",
    "\n",
    "**Important:**\n",
    "- Do not add locations or severity\n",
    "- Do not use other words besides the specified terms\n",
    "- Keep it to one short sentence\n",
    "\"\"\"\n",
    "\n",
    "def encode_image(image_path):\n",
    "    \"\"\"Encode image to base64\"\"\"\n",
    "    try:\n",
    "        with open(image_path, \"rb\") as image_file:\n",
    "            return base64.b64encode(image_file.read()).decode('utf-8')\n",
    "    except Exception as e:\n",
    "        print(f\"Image encoding failed for {image_path}: {str(e)}\")\n",
    "        return None\n",
    "\n",
    "@retry(stop=stop_after_attempt(MAX_RETRIES),\n",
    "       wait=wait_exponential(multiplier=1, min=4, max=10))\n",
    "def get_damage_description(image_path, client, log_file=None):\n",
    "    \"\"\"Get damage description with strict formatting\"\"\"\n",
    "    try:\n",
    "        base64_image = encode_image(image_path)\n",
    "        if not base64_image:\n",
    "            return None\n",
    "\n",
    "        response = client.chat.completions.create(\n",
    "            model=\"gpt-4-vision-preview\",\n",
    "            messages=[\n",
    "                {\n",
    "                    \"role\": \"system\",\n",
    "                    \"content\": SYSTEM_PROMPT\n",
    "                },\n",
    "                {\n",
    "                    \"role\": \"user\",\n",
    "                    \"content\": [\n",
    "                        {\n",
    "                            \"type\": \"text\",\n",
    "                            \"text\": \"Analyze this car image for damages.\"\n",
    "                        },\n",
    "                        {\n",
    "                            \"type\": \"image_url\",\n",
    "                            \"image_url\": {\n",
    "                                \"url\": f\"data:image/jpeg;base64,{base64_image}\",\n",
    "                                \"detail\": \"high\"\n",
    "                            }\n",
    "                        }\n",
    "                    ]\n",
    "                }\n",
    "            ],\n",
    "            temperature=0.0,  # Minimize creativity for strict format\n",
    "            max_tokens=100,\n",
    "        )\n",
    "\n",
    "        description = response.choices[0].message.content.strip()\n",
    "        \n",
    "        # Validate response format\n",
    "        if not description.startswith(\"Car image with\"):\n",
    "            description = \"Car image with \" + description\n",
    "        \n",
    "        # Log the response\n",
    "        if log_file:\n",
    "            log_entry = {\n",
    "                \"image\": os.path.basename(image_path),\n",
    "                \"response\": description,\n",
    "                \"timestamp\": pd.Timestamp.now().isoformat()\n",
    "            }\n",
    "            with open(log_file, \"a\") as f:\n",
    "                f.write(json.dumps(log_entry) + \"\\n\")\n",
    "\n",
    "        return description\n",
    "\n",
    "    except Exception as e:\n",
    "        print(f\"API call failed for {os.path.basename(image_path)}: {str(e)}\")\n",
    "        if log_file:\n",
    "            with open(log_file, \"a\") as f:\n",
    "                f.write(json.dumps({\n",
    "                    \"image\": os.path.basename(image_path),\n",
    "                    \"error\": str(e),\n",
    "                    \"timestamp\": pd.Timestamp.now().isoformat()\n",
    "                }) + \"\\n\")\n",
    "        raise\n",
    "\n",
    "# Load validation data\n",
    "VAL_CSV_PATH = \"/kaggle/input/tammathon-task-3/test.csv\"\n",
    "VAL_IMAGE_PATH = \"/kaggle/input/tammathon-task-3/test/test\"\n",
    "val_df = pd.read_csv(VAL_CSV_PATH)\n",
    "\n",
    "# Process images\n",
    "predictions = []\n",
    "for idx, row in tqdm(val_df.iterrows(), total=len(val_df), desc=\"Processing\"):\n",
    "    try:\n",
    "        img_path = os.path.join(VAL_IMAGE_PATH, row['file_name'])\n",
    "        description = get_damage_description(img_path, client, LOG_FILE)\n",
    "        predictions.append(description or \"Format error\")\n",
    "    except Exception as e:\n",
    "        predictions.append(f\"Error: {str(e)}\")\n",
    "    time.sleep(API_CALL_DELAY)\n",
    "\n",
    "# Create results dataframe\n",
    "results_df = pd.DataFrame({\n",
    "    'id': val_df['id'],\n",
    "    'prediction': predictions\n",
    "})\n",
    "\n",
    "# Save results\n",
    "results_df.to_csv(\"/kaggle/working/submission.csv\", index=False)\n",
    "print(\"\\nResults saved. Sample predictions:\")\n",
    "print(results_df[['id', 'prediction']].head())"
   ]
  },
  {
   "cell_type": "code",
   "execution_count": 3,
   "id": "b121bb76",
   "metadata": {
    "execution": {
     "iopub.execute_input": "2025-04-23T18:26:00.268950Z",
     "iopub.status.busy": "2025-04-23T18:26:00.268756Z",
     "iopub.status.idle": "2025-04-23T18:26:00.277014Z",
     "shell.execute_reply": "2025-04-23T18:26:00.276393Z"
    },
    "papermill": {
     "duration": 0.025015,
     "end_time": "2025-04-23T18:26:00.278188",
     "exception": false,
     "start_time": "2025-04-23T18:26:00.253173",
     "status": "completed"
    },
    "tags": []
   },
   "outputs": [
    {
     "name": "stdout",
     "output_type": "stream",
     "text": [
      "Speechmarks removed. Cleaned file saved to: /kaggle/working/submission_final.csv\n"
     ]
    },
    {
     "name": "stderr",
     "output_type": "stream",
     "text": [
      "/tmp/ipykernel_19/2729382053.py:8: FutureWarning: DataFrame.applymap has been deprecated. Use DataFrame.map instead.\n",
      "  df = df.applymap(lambda x: x.replace('\"', '') if isinstance(x, str) else x)\n"
     ]
    }
   ],
   "source": [
    "import pandas as pd\n",
    "\n",
    "# Read your CSV file\n",
    "file_path = \"/kaggle/working/submission.csv\"  # Replace with your file path\n",
    "df = pd.read_csv(file_path)\n",
    "\n",
    "# Remove all speechmarks from string columns\n",
    "df = df.applymap(lambda x: x.replace('\"', '') if isinstance(x, str) else x)\n",
    "\n",
    "# Save the cleaned CSV\n",
    "cleaned_file_path = \"/kaggle/working/submission_final.csv\"\n",
    "df.to_csv(cleaned_file_path, index=False, quoting=1)  # quoting=1 ensures no quotes are added back\n",
    "\n",
    "print(f\"Speechmarks removed. Cleaned file saved to: {cleaned_file_path}\")"
   ]
  }
 ],
 "metadata": {
  "kaggle": {
   "accelerator": "nvidiaTeslaT4",
   "dataSources": [
    {
     "databundleVersionId": 11647986,
     "sourceId": 97729,
     "sourceType": "competition"
    }
   ],
   "dockerImageVersionId": 31011,
   "isGpuEnabled": true,
   "isInternetEnabled": true,
   "language": "python",
   "sourceType": "notebook"
  },
  "kernelspec": {
   "display_name": "Python 3",
   "language": "python",
   "name": "python3"
  },
  "language_info": {
   "codemirror_mode": {
    "name": "ipython",
    "version": 3
   },
   "file_extension": ".py",
   "mimetype": "text/x-python",
   "name": "python",
   "nbconvert_exporter": "python",
   "pygments_lexer": "ipython3",
   "version": "3.11.11"
  },
  "papermill": {
   "default_parameters": {},
   "duration": 1904.774927,
   "end_time": "2025-04-23T18:26:00.811803",
   "environment_variables": {},
   "exception": null,
   "input_path": "__notebook__.ipynb",
   "output_path": "__notebook__.ipynb",
   "parameters": {},
   "start_time": "2025-04-23T17:54:16.036876",
   "version": "2.6.0"
  }
 },
 "nbformat": 4,
 "nbformat_minor": 5
}
